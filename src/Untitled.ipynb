{
 "cells": [
  {
   "cell_type": "code",
   "execution_count": 4,
   "metadata": {},
   "outputs": [],
   "source": [
    "import pandas as pd\n",
    "import numpy as np"
   ]
  },
  {
   "cell_type": "code",
   "execution_count": 5,
   "metadata": {},
   "outputs": [
    {
     "name": "stdout",
     "output_type": "stream",
     "text": [
      "(9399, 93)\n",
      "Index(['Unnamed: 0', 'ID', 'Series', 'Repeat', 'Ambient Humidity',\n",
      "       'Ambient Temperature', 'ECSt mAU', 'gH+', 'Leaf Angle',\n",
      "       'Leaf Temperature Differential', 'LEF', 'Light Intensity (PAR)', 'NPQt',\n",
      "       'Phi2', 'PhiNO', 'PhiNPQ', 'PS1 Active Centers', 'PS1 Open Centers',\n",
      "       'PS1 Over Reduced Centers', 'PS1 Oxidized Centers',\n",
      "       'Relative Chlorophyll', 'Thickness', 'vH+', 'time', 'sitio de cosecha',\n",
      "       'Numero', 'planta', 'absorbance_420', 'absorbance_530',\n",
      "       'absorbance_605', 'absorbance_650', 'absorbance_730', 'absorbance_850',\n",
      "       'absorbance_880', 'absorbance_940', 'Ambient Pressure', 'B', 'ECS_tau',\n",
      "       'FmPrime', 'FoPrime', 'Fs', 'FvP_over_FmP', 'G', 'kP700',\n",
      "       'Leaf Temperature', 'LEFd_trace', 'lights_length', 'n_sets',\n",
      "       'P700_DIRK_ampl', 'qL', 'R', 'SPAD_650', 'test_data_raw_PAM', 'thick2',\n",
      "       'thick3', 'thick4', 'Time of Day', 'tP700', 'v_initial_P700', 'value1',\n",
      "       'value2', 'value3', 'Device ID', 'Latitude', 'Longitude', 'Issues',\n",
      "       'note', 'status', 'timestamp', 'UE', 'hour', 'dayYear', 'dayM',\n",
      "       'phyInx', 'Carga', 'Standard.errors', 'unique identifier', 'row', 'col',\n",
      "       'Cross', 'family', 'f1.2', 'f2.3', 'f3.4', 'f4.5', 'f5.6', 'f23g',\n",
      "       'f34g', 'Genotype', 'das', 'sampling', 'LTD', 'm_thick'],\n",
      "      dtype='object')\n"
     ]
    }
   ],
   "source": [
    "df = pd.read_csv('./../data/20-01_GCDT_MultispecQ_recoded.csv', sep=',', na_values=['NA', '.', ''])\n",
    "print(df.shape)\n",
    "print(df.columns)"
   ]
  },
  {
   "cell_type": "markdown",
   "metadata": {},
   "source": [
    "# Filter Data $Q_{0.02}$ & $Q_{0.95}$ by sampling"
   ]
  },
  {
   "cell_type": "code",
   "execution_count": 6,
   "metadata": {},
   "outputs": [
    {
     "name": "stdout",
     "output_type": "stream",
     "text": [
      "CPU times: user 5.86 s, sys: 9.15 ms, total: 5.87 s\n",
      "Wall time: 5.87 s\n"
     ]
    }
   ],
   "source": [
    "%%time\n",
    "#nan for each column for each sampling if not in Q2%-Q95%\n",
    "\n",
    "notFilterColumns = ['ID','Series','sitio de cosecha','Numero','planta','Time of Day','Device ID','Latitude','Longitude','Issues','note','status','timestamp','UE','hour','dayYear','dayM','Carga','unique identifier','row','col','Cross','family','f1.2','f2.3','f3.4','f4.5','f5.6','f23g','f34g','Genotype','das','sampling', 'time']\n",
    "filteredSamplings = list()\n",
    "for sampling, sdf in df.groupby('sampling'):\n",
    "    dataFiltered = sdf.copy()\n",
    "    for i in [x for x in df.columns if x not in notFilterColumns]:\n",
    "        Q=list(dataFiltered[i].quantile([0.02, 0.95]))\n",
    "        index = dataFiltered[(dataFiltered[i]<Q[0])|(dataFiltered[i]>Q[1])].index\n",
    "        dataFiltered.loc[index,i] = np.nan\n",
    "    filteredSamplings.append(dataFiltered)\n",
    "    \n",
    "filteredDf = pd.concat(filteredSamplings)\n"
   ]
  },
  {
   "cell_type": "code",
   "execution_count": 7,
   "metadata": {},
   "outputs": [],
   "source": [
    "filteredDf.to_csv('./../proccesed_data/20-01_GCDT_MultispecQ_filtered.csv', index=False, na_rep='NA')"
   ]
  }
 ],
 "metadata": {
  "kernelspec": {
   "display_name": "IntrogressionMapping",
   "language": "python",
   "name": "introgressionmapping"
  },
  "language_info": {
   "codemirror_mode": {
    "name": "ipython",
    "version": 3
   },
   "file_extension": ".py",
   "mimetype": "text/x-python",
   "name": "python",
   "nbconvert_exporter": "python",
   "pygments_lexer": "ipython3",
   "version": "3.7.9"
  }
 },
 "nbformat": 4,
 "nbformat_minor": 4
}
